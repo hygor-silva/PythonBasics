{
  "nbformat": 4,
  "nbformat_minor": 0,
  "metadata": {
    "colab": {
      "name": "DesafioANEEL.ipynb",
      "provenance": [],
      "authorship_tag": "ABX9TyP87QiWNUj92MX5cYtfGWAl",
      "include_colab_link": true
    },
    "kernelspec": {
      "name": "python3",
      "display_name": "Python 3"
    },
    "language_info": {
      "name": "python"
    }
  },
  "cells": [
    {
      "cell_type": "markdown",
      "metadata": {
        "id": "view-in-github",
        "colab_type": "text"
      },
      "source": [
        "<a href=\"https://colab.research.google.com/github/hygor-silva/PythonBasics/blob/main/DesafioANEEL.ipynb\" target=\"_parent\"><img src=\"https://colab.research.google.com/assets/colab-badge.svg\" alt=\"Open In Colab\"/></a>"
      ]
    },
    {
      "cell_type": "code",
      "execution_count": 1,
      "metadata": {
        "colab": {
          "base_uri": "https://localhost:8080/"
        },
        "id": "z3Ixcr78pcW7",
        "outputId": "88f029a2-97ef-44bd-8e03-cd822ec244b2"
      },
      "outputs": [
        {
          "output_type": "stream",
          "name": "stdout",
          "text": [
            "Faça a estatística descritiva dos três grupos de equipamentos utilizando o Excel ou outro software de sua preferência. Apresente as análises de posição (média, moda, mediana e quartis 1.º e 3.º) e de dispersão (amplitude, variância, desvio padrão e coeficiente de variação) para os três grupos.\n"
          ]
        }
      ],
      "source": [
        "print('Faça a estatística descritiva dos três grupos de equipamentos utilizando o Excel ou outro software de sua preferência. Apresente as análises de posição (média, moda, mediana e quartis 1.º e 3.º) e de dispersão (amplitude, variância, desvio padrão e coeficiente de variação) para os três grupos.')"
      ]
    },
    {
      "cell_type": "code",
      "source": [
        "import pandas as pd\n",
        "import seaborn as sns\n",
        "import matplotlib.pyplot as plt\n",
        "%matplotlib inline"
      ],
      "metadata": {
        "id": "CLHIr64RpoOj"
      },
      "execution_count": 26,
      "outputs": []
    },
    {
      "cell_type": "code",
      "source": [
        "data = pd.read_csv('dataset_aneel.csv')"
      ],
      "metadata": {
        "id": "LysPGGu7qIeB"
      },
      "execution_count": 3,
      "outputs": []
    },
    {
      "cell_type": "code",
      "source": [
        "data.head()"
      ],
      "metadata": {
        "colab": {
          "base_uri": "https://localhost:8080/",
          "height": 206
        },
        "id": "GpyDQxGOquBw",
        "outputId": "9a136f99-559f-4526-ee3b-1c93415c9551"
      },
      "execution_count": 6,
      "outputs": [
        {
          "output_type": "execute_result",
          "data": {
            "text/plain": [
              "         Data     Tempo  Grupo1  Grupo2  Grupo3  Unnamed: 5 Unnamed: 6\n",
              "0  2019-11-24  00:00:00       0       2       0         NaN        NaN\n",
              "1  2019-11-24  00:01:00       0       1       0         NaN        NaN\n",
              "2  2019-11-24  00:02:00       0       2       0         NaN        NaN\n",
              "3  2019-11-24  00:03:00       0       1       0         NaN        NaN\n",
              "4  2019-11-24  00:04:00       0       1       0         NaN        NaN"
            ],
            "text/html": [
              "\n",
              "  <div id=\"df-6ef47f50-15b0-462f-a653-5a1c0d3340fc\">\n",
              "    <div class=\"colab-df-container\">\n",
              "      <div>\n",
              "<style scoped>\n",
              "    .dataframe tbody tr th:only-of-type {\n",
              "        vertical-align: middle;\n",
              "    }\n",
              "\n",
              "    .dataframe tbody tr th {\n",
              "        vertical-align: top;\n",
              "    }\n",
              "\n",
              "    .dataframe thead th {\n",
              "        text-align: right;\n",
              "    }\n",
              "</style>\n",
              "<table border=\"1\" class=\"dataframe\">\n",
              "  <thead>\n",
              "    <tr style=\"text-align: right;\">\n",
              "      <th></th>\n",
              "      <th>Data</th>\n",
              "      <th>Tempo</th>\n",
              "      <th>Grupo1</th>\n",
              "      <th>Grupo2</th>\n",
              "      <th>Grupo3</th>\n",
              "      <th>Unnamed: 5</th>\n",
              "      <th>Unnamed: 6</th>\n",
              "    </tr>\n",
              "  </thead>\n",
              "  <tbody>\n",
              "    <tr>\n",
              "      <th>0</th>\n",
              "      <td>2019-11-24</td>\n",
              "      <td>00:00:00</td>\n",
              "      <td>0</td>\n",
              "      <td>2</td>\n",
              "      <td>0</td>\n",
              "      <td>NaN</td>\n",
              "      <td>NaN</td>\n",
              "    </tr>\n",
              "    <tr>\n",
              "      <th>1</th>\n",
              "      <td>2019-11-24</td>\n",
              "      <td>00:01:00</td>\n",
              "      <td>0</td>\n",
              "      <td>1</td>\n",
              "      <td>0</td>\n",
              "      <td>NaN</td>\n",
              "      <td>NaN</td>\n",
              "    </tr>\n",
              "    <tr>\n",
              "      <th>2</th>\n",
              "      <td>2019-11-24</td>\n",
              "      <td>00:02:00</td>\n",
              "      <td>0</td>\n",
              "      <td>2</td>\n",
              "      <td>0</td>\n",
              "      <td>NaN</td>\n",
              "      <td>NaN</td>\n",
              "    </tr>\n",
              "    <tr>\n",
              "      <th>3</th>\n",
              "      <td>2019-11-24</td>\n",
              "      <td>00:03:00</td>\n",
              "      <td>0</td>\n",
              "      <td>1</td>\n",
              "      <td>0</td>\n",
              "      <td>NaN</td>\n",
              "      <td>NaN</td>\n",
              "    </tr>\n",
              "    <tr>\n",
              "      <th>4</th>\n",
              "      <td>2019-11-24</td>\n",
              "      <td>00:04:00</td>\n",
              "      <td>0</td>\n",
              "      <td>1</td>\n",
              "      <td>0</td>\n",
              "      <td>NaN</td>\n",
              "      <td>NaN</td>\n",
              "    </tr>\n",
              "  </tbody>\n",
              "</table>\n",
              "</div>\n",
              "      <button class=\"colab-df-convert\" onclick=\"convertToInteractive('df-6ef47f50-15b0-462f-a653-5a1c0d3340fc')\"\n",
              "              title=\"Convert this dataframe to an interactive table.\"\n",
              "              style=\"display:none;\">\n",
              "        \n",
              "  <svg xmlns=\"http://www.w3.org/2000/svg\" height=\"24px\"viewBox=\"0 0 24 24\"\n",
              "       width=\"24px\">\n",
              "    <path d=\"M0 0h24v24H0V0z\" fill=\"none\"/>\n",
              "    <path d=\"M18.56 5.44l.94 2.06.94-2.06 2.06-.94-2.06-.94-.94-2.06-.94 2.06-2.06.94zm-11 1L8.5 8.5l.94-2.06 2.06-.94-2.06-.94L8.5 2.5l-.94 2.06-2.06.94zm10 10l.94 2.06.94-2.06 2.06-.94-2.06-.94-.94-2.06-.94 2.06-2.06.94z\"/><path d=\"M17.41 7.96l-1.37-1.37c-.4-.4-.92-.59-1.43-.59-.52 0-1.04.2-1.43.59L10.3 9.45l-7.72 7.72c-.78.78-.78 2.05 0 2.83L4 21.41c.39.39.9.59 1.41.59.51 0 1.02-.2 1.41-.59l7.78-7.78 2.81-2.81c.8-.78.8-2.07 0-2.86zM5.41 20L4 18.59l7.72-7.72 1.47 1.35L5.41 20z\"/>\n",
              "  </svg>\n",
              "      </button>\n",
              "      \n",
              "  <style>\n",
              "    .colab-df-container {\n",
              "      display:flex;\n",
              "      flex-wrap:wrap;\n",
              "      gap: 12px;\n",
              "    }\n",
              "\n",
              "    .colab-df-convert {\n",
              "      background-color: #E8F0FE;\n",
              "      border: none;\n",
              "      border-radius: 50%;\n",
              "      cursor: pointer;\n",
              "      display: none;\n",
              "      fill: #1967D2;\n",
              "      height: 32px;\n",
              "      padding: 0 0 0 0;\n",
              "      width: 32px;\n",
              "    }\n",
              "\n",
              "    .colab-df-convert:hover {\n",
              "      background-color: #E2EBFA;\n",
              "      box-shadow: 0px 1px 2px rgba(60, 64, 67, 0.3), 0px 1px 3px 1px rgba(60, 64, 67, 0.15);\n",
              "      fill: #174EA6;\n",
              "    }\n",
              "\n",
              "    [theme=dark] .colab-df-convert {\n",
              "      background-color: #3B4455;\n",
              "      fill: #D2E3FC;\n",
              "    }\n",
              "\n",
              "    [theme=dark] .colab-df-convert:hover {\n",
              "      background-color: #434B5C;\n",
              "      box-shadow: 0px 1px 3px 1px rgba(0, 0, 0, 0.15);\n",
              "      filter: drop-shadow(0px 1px 2px rgba(0, 0, 0, 0.3));\n",
              "      fill: #FFFFFF;\n",
              "    }\n",
              "  </style>\n",
              "\n",
              "      <script>\n",
              "        const buttonEl =\n",
              "          document.querySelector('#df-6ef47f50-15b0-462f-a653-5a1c0d3340fc button.colab-df-convert');\n",
              "        buttonEl.style.display =\n",
              "          google.colab.kernel.accessAllowed ? 'block' : 'none';\n",
              "\n",
              "        async function convertToInteractive(key) {\n",
              "          const element = document.querySelector('#df-6ef47f50-15b0-462f-a653-5a1c0d3340fc');\n",
              "          const dataTable =\n",
              "            await google.colab.kernel.invokeFunction('convertToInteractive',\n",
              "                                                     [key], {});\n",
              "          if (!dataTable) return;\n",
              "\n",
              "          const docLinkHtml = 'Like what you see? Visit the ' +\n",
              "            '<a target=\"_blank\" href=https://colab.research.google.com/notebooks/data_table.ipynb>data table notebook</a>'\n",
              "            + ' to learn more about interactive tables.';\n",
              "          element.innerHTML = '';\n",
              "          dataTable['output_type'] = 'display_data';\n",
              "          await google.colab.output.renderOutput(dataTable, element);\n",
              "          const docLink = document.createElement('div');\n",
              "          docLink.innerHTML = docLinkHtml;\n",
              "          element.appendChild(docLink);\n",
              "        }\n",
              "      </script>\n",
              "    </div>\n",
              "  </div>\n",
              "  "
            ]
          },
          "metadata": {},
          "execution_count": 6
        }
      ]
    },
    {
      "cell_type": "code",
      "source": [
        "media = data['Grupo1'].sum() / len(data['Grupo1'])\n",
        "print(media)"
      ],
      "metadata": {
        "colab": {
          "base_uri": "https://localhost:8080/"
        },
        "id": "yDofDZqRuIHj",
        "outputId": "82b78bdb-faaf-4e49-8ac5-1cf597d01521"
      },
      "execution_count": 8,
      "outputs": [
        {
          "output_type": "stream",
          "name": "stdout",
          "text": [
            "0.7541666666666667\n"
          ]
        }
      ]
    },
    {
      "cell_type": "code",
      "source": [
        "mediana = data['Grupo1'].median()\n",
        "print(mediana)"
      ],
      "metadata": {
        "colab": {
          "base_uri": "https://localhost:8080/"
        },
        "id": "tLcyQjLYuurC",
        "outputId": "623a697c-116a-4dc3-96a9-f5da1ff02533"
      },
      "execution_count": 22,
      "outputs": [
        {
          "output_type": "stream",
          "name": "stdout",
          "text": [
            "0.0\n"
          ]
        }
      ]
    },
    {
      "cell_type": "code",
      "source": [
        "data['Grupo1'].mode()"
      ],
      "metadata": {
        "colab": {
          "base_uri": "https://localhost:8080/"
        },
        "id": "1jPelsicxH1H",
        "outputId": "d95e1187-e94f-4380-f4e6-2aabba040dc4"
      },
      "execution_count": 23,
      "outputs": [
        {
          "output_type": "execute_result",
          "data": {
            "text/plain": [
              "0    0\n",
              "dtype: int64"
            ]
          },
          "metadata": {},
          "execution_count": 23
        }
      ]
    },
    {
      "cell_type": "code",
      "source": [
        "boxplot = data.boxplot(column=['Grupo1'])\n",
        "boxplot.plot()\n",
        "\n",
        "plt.show()"
      ],
      "metadata": {
        "colab": {
          "base_uri": "https://localhost:8080/",
          "height": 265
        },
        "id": "l1mr6cu_x1j4",
        "outputId": "df93374f-a90f-4a46-b712-b747b9b1c92a"
      },
      "execution_count": 34,
      "outputs": [
        {
          "output_type": "display_data",
          "data": {
            "text/plain": [
              "<Figure size 432x288 with 1 Axes>"
            ],
            "image/png": "[encoded data removed]"
          },
          "metadata": {
            "needs_background": "light"
          }
        }
      ]
    },
    {
      "cell_type": "code",
      "source": [
        "amplitude = data['Grupo1'].max() - data['Grupo1'].min()\n",
        "print(amplitude)"
      ],
      "metadata": {
        "colab": {
          "base_uri": "https://localhost:8080/"
        },
        "id": "Rxmb2Bbp0h1a",
        "outputId": "47ea21db-8f38-49d4-a6d4-1c17b82ed12a"
      },
      "execution_count": 36,
      "outputs": [
        {
          "output_type": "stream",
          "name": "stdout",
          "text": [
            "38\n"
          ]
        }
      ]
    },
    {
      "cell_type": "code",
      "source": [
        "data['Grupo1'].var()"
      ],
      "metadata": {
        "colab": {
          "base_uri": "https://localhost:8080/"
        },
        "id": "xNQqZb4r1WFz",
        "outputId": "ab94605b-02dc-475f-e150-cf434856eee3"
      },
      "execution_count": 37,
      "outputs": [
        {
          "output_type": "execute_result",
          "data": {
            "text/plain": [
              "24.10765890934287"
            ]
          },
          "metadata": {},
          "execution_count": 37
        }
      ]
    },
    {
      "cell_type": "code",
      "source": [
        "data['Grupo1'].std()"
      ],
      "metadata": {
        "colab": {
          "base_uri": "https://localhost:8080/"
        },
        "id": "RXkXYqLi1rIo",
        "outputId": "9ccc0b4e-1340-45c6-fc6a-776b34af2516"
      },
      "execution_count": 38,
      "outputs": [
        {
          "output_type": "execute_result",
          "data": {
            "text/plain": [
              "4.909955082212348"
            ]
          },
          "metadata": {},
          "execution_count": 38
        }
      ]
    },
    {
      "cell_type": "code",
      "source": [
        "data['Grupo1'].describe()"
      ],
      "metadata": {
        "colab": {
          "base_uri": "https://localhost:8080/"
        },
        "id": "rHHFosZZ1wgp",
        "outputId": "bb72aca1-0b01-4429-f31d-855dd536d342"
      },
      "execution_count": 39,
      "outputs": [
        {
          "output_type": "execute_result",
          "data": {
            "text/plain": [
              "count    2880.000000\n",
              "mean        0.754167\n",
              "std         4.909955\n",
              "min         0.000000\n",
              "25%         0.000000\n",
              "50%         0.000000\n",
              "75%         0.000000\n",
              "max        38.000000\n",
              "Name: Grupo1, dtype: float64"
            ]
          },
          "metadata": {},
          "execution_count": 39
        }
      ]
    },
    {
      "cell_type": "code",
      "source": [
        "#repetindo os comandos na coluna 2"
      ],
      "metadata": {
        "id": "PiFRbK1J2hLp"
      },
      "execution_count": 49,
      "outputs": []
    },
    {
      "cell_type": "code",
      "source": [
        "media = data['Grupo2'].sum() / len(data['Grupo2'])\n",
        "print(media)"
      ],
      "metadata": {
        "colab": {
          "base_uri": "https://localhost:8080/"
        },
        "id": "QCkplOIh2uRk",
        "outputId": "167b2238-d995-444c-c7ea-5a70939b625e"
      },
      "execution_count": 41,
      "outputs": [
        {
          "output_type": "stream",
          "name": "stdout",
          "text": [
            "1.1368055555555556\n"
          ]
        }
      ]
    },
    {
      "cell_type": "code",
      "source": [
        "mediana = data['Grupo2'].median()\n",
        "print(mediana)"
      ],
      "metadata": {
        "colab": {
          "base_uri": "https://localhost:8080/"
        },
        "id": "YnrN2OFk2yit",
        "outputId": "415d4692-60fc-4252-93e1-d20cfd7b8860"
      },
      "execution_count": 42,
      "outputs": [
        {
          "output_type": "stream",
          "name": "stdout",
          "text": [
            "0.0\n"
          ]
        }
      ]
    },
    {
      "cell_type": "code",
      "source": [
        "data['Grupo2'].mode()"
      ],
      "metadata": {
        "colab": {
          "base_uri": "https://localhost:8080/"
        },
        "id": "RkITCIvE22xO",
        "outputId": "06c2bbd1-7ef3-47c0-8fd1-f877b958d59a"
      },
      "execution_count": 43,
      "outputs": [
        {
          "output_type": "execute_result",
          "data": {
            "text/plain": [
              "0    0\n",
              "dtype: int64"
            ]
          },
          "metadata": {},
          "execution_count": 43
        }
      ]
    },
    {
      "cell_type": "code",
      "source": [
        "boxplot = data.boxplot(column=['Grupo2'])\n",
        "boxplot.plot()\n",
        "\n",
        "plt.show()"
      ],
      "metadata": {
        "colab": {
          "base_uri": "https://localhost:8080/",
          "height": 265
        },
        "id": "GxaZO-El26uu",
        "outputId": "77426a51-ff2e-47cf-e21d-74b63fde2039"
      },
      "execution_count": 44,
      "outputs": [
        {
          "output_type": "display_data",
          "data": {
            "text/plain": [
              "<Figure size 432x288 with 1 Axes>"
            ],
            "image/png": "[encoded data removed]"
          },
          "metadata": {
            "needs_background": "light"
          }
        }
      ]
    },
    {
      "cell_type": "code",
      "source": [
        "amplitude = data['Grupo2'].max() - data['Grupo2'].min()\n",
        "print(amplitude)"
      ],
      "metadata": {
        "colab": {
          "base_uri": "https://localhost:8080/"
        },
        "id": "so7bW0Y-2-G_",
        "outputId": "e6f0c23f-002d-436a-ec0b-e1099f80da09"
      },
      "execution_count": 45,
      "outputs": [
        {
          "output_type": "stream",
          "name": "stdout",
          "text": [
            "40\n"
          ]
        }
      ]
    },
    {
      "cell_type": "code",
      "source": [
        "data['Grupo2'].var()"
      ],
      "metadata": {
        "colab": {
          "base_uri": "https://localhost:8080/"
        },
        "id": "EFQdeRP13B_x",
        "outputId": "967f13f2-f8cf-496b-beef-6aec8cf6b1f1"
      },
      "execution_count": 46,
      "outputs": [
        {
          "output_type": "execute_result",
          "data": {
            "text/plain": [
              "26.696803963568993"
            ]
          },
          "metadata": {},
          "execution_count": 46
        }
      ]
    },
    {
      "cell_type": "code",
      "source": [
        "data['Grupo2'].std()"
      ],
      "metadata": {
        "colab": {
          "base_uri": "https://localhost:8080/"
        },
        "id": "OZ3DsTyQ3Ero",
        "outputId": "08f39d79-2f83-4299-b5ec-e9e52d9f5c62"
      },
      "execution_count": 47,
      "outputs": [
        {
          "output_type": "execute_result",
          "data": {
            "text/plain": [
              "5.1668950021815805"
            ]
          },
          "metadata": {},
          "execution_count": 47
        }
      ]
    },
    {
      "cell_type": "code",
      "source": [
        "data['Grupo2'].describe()"
      ],
      "metadata": {
        "colab": {
          "base_uri": "https://localhost:8080/"
        },
        "id": "XJgfEInR3Hnx",
        "outputId": "c7de3b40-2622-45d3-823c-eff411b45bdd"
      },
      "execution_count": 56,
      "outputs": [
        {
          "output_type": "execute_result",
          "data": {
            "text/plain": [
              "count    2880.000000\n",
              "mean        1.136806\n",
              "std         5.166895\n",
              "min         0.000000\n",
              "25%         0.000000\n",
              "50%         0.000000\n",
              "75%         1.000000\n",
              "max        40.000000\n",
              "Name: Grupo2, dtype: float64"
            ]
          },
          "metadata": {},
          "execution_count": 56
        }
      ]
    },
    {
      "cell_type": "code",
      "source": [
        "#repetindo os comandos na coluna 3"
      ],
      "metadata": {
        "id": "pRSNb2XP3k5f"
      },
      "execution_count": 50,
      "outputs": []
    },
    {
      "cell_type": "code",
      "source": [
        "media = data['Grupo3'].sum() / len(data['Grupo3'])\n",
        "print(media)"
      ],
      "metadata": {
        "colab": {
          "base_uri": "https://localhost:8080/"
        },
        "id": "9hjxEDx23-Yz",
        "outputId": "e8f02553-e477-4b4b-c3bc-2fc1f62bd8d1"
      },
      "execution_count": 51,
      "outputs": [
        {
          "output_type": "stream",
          "name": "stdout",
          "text": [
            "6.0055555555555555\n"
          ]
        }
      ]
    },
    {
      "cell_type": "code",
      "source": [
        "mediana = data['Grupo3'].median()\n",
        "print(mediana)"
      ],
      "metadata": {
        "colab": {
          "base_uri": "https://localhost:8080/"
        },
        "id": "0AssLGV_4Fa8",
        "outputId": "74bdf29a-07c8-4800-8d5d-f444d7f69e64"
      },
      "execution_count": 52,
      "outputs": [
        {
          "output_type": "stream",
          "name": "stdout",
          "text": [
            "0.0\n"
          ]
        }
      ]
    },
    {
      "cell_type": "code",
      "source": [
        "data['Grupo3'].mode()"
      ],
      "metadata": {
        "colab": {
          "base_uri": "https://localhost:8080/"
        },
        "id": "l_YVjIsK4IJF",
        "outputId": "604039f0-59c9-4216-9638-58f204162edb"
      },
      "execution_count": 53,
      "outputs": [
        {
          "output_type": "execute_result",
          "data": {
            "text/plain": [
              "0    0\n",
              "dtype: int64"
            ]
          },
          "metadata": {},
          "execution_count": 53
        }
      ]
    },
    {
      "cell_type": "code",
      "source": [
        "boxplot = data.boxplot(column=['Grupo3'])\n",
        "boxplot.plot()\n",
        "\n",
        "plt.show()"
      ],
      "metadata": {
        "colab": {
          "base_uri": "https://localhost:8080/",
          "height": 265
        },
        "id": "_4BEGG1C4Kjt",
        "outputId": "2186b69e-f044-4264-dbb7-bf3ad72cb71b"
      },
      "execution_count": 54,
      "outputs": [
        {
          "output_type": "display_data",
          "data": {
            "text/plain": [
              "<Figure size 432x288 with 1 Axes>"
            ],
            "image/png": "[encoded data removed]"
          },
          "metadata": {
            "needs_background": "light"
          }
        }
      ]
    },
    {
      "cell_type": "code",
      "source": [
        "amplitude = data['Grupo3'].max() - data['Grupo3'].min()\n",
        "print(amplitude)"
      ],
      "metadata": {
        "colab": {
          "base_uri": "https://localhost:8080/"
        },
        "id": "ft6Z6Ef-4NIu",
        "outputId": "2fdc9749-2834-4bbc-f66c-a0d860128893"
      },
      "execution_count": 55,
      "outputs": [
        {
          "output_type": "stream",
          "name": "stdout",
          "text": [
            "19\n"
          ]
        }
      ]
    },
    {
      "cell_type": "code",
      "source": [
        "data['Grupo3'].var()"
      ],
      "metadata": {
        "colab": {
          "base_uri": "https://localhost:8080/"
        },
        "id": "nKGtoTb-4ROn",
        "outputId": "b58f8b17-8c8e-40a0-d628-9560b15267b8"
      },
      "execution_count": 57,
      "outputs": [
        {
          "output_type": "execute_result",
          "data": {
            "text/plain": [
              "69.38517232063498"
            ]
          },
          "metadata": {},
          "execution_count": 57
        }
      ]
    },
    {
      "cell_type": "code",
      "source": [
        "data['Grupo3'].std()"
      ],
      "metadata": {
        "colab": {
          "base_uri": "https://localhost:8080/"
        },
        "id": "r47_fGU14abC",
        "outputId": "ce154160-704e-4581-9c2d-8794a49abe68"
      },
      "execution_count": 58,
      "outputs": [
        {
          "output_type": "execute_result",
          "data": {
            "text/plain": [
              "8.32977624673286"
            ]
          },
          "metadata": {},
          "execution_count": 58
        }
      ]
    },
    {
      "cell_type": "code",
      "source": [
        "data['Grupo3'].describe()"
      ],
      "metadata": {
        "colab": {
          "base_uri": "https://localhost:8080/"
        },
        "id": "GGdzAn3R4dLK",
        "outputId": "33b1c4ec-8422-433d-89c4-ad62a83c425f"
      },
      "execution_count": 59,
      "outputs": [
        {
          "output_type": "execute_result",
          "data": {
            "text/plain": [
              "count    2880.000000\n",
              "mean        6.005556\n",
              "std         8.329776\n",
              "min         0.000000\n",
              "25%         0.000000\n",
              "50%         0.000000\n",
              "75%        17.000000\n",
              "max        19.000000\n",
              "Name: Grupo3, dtype: float64"
            ]
          },
          "metadata": {},
          "execution_count": 59
        }
      ]
    },
    {
      "cell_type": "code",
      "source": [
        "freq = data.groupby(['Grupo1']).count()\n",
        "print(freq)\n",
        "\n",
        "freq = data.groupby(['Grupo2']).count()\n",
        "print(freq)\n",
        "\n",
        "freq = data.groupby(['Grupo3']).count()\n",
        "print(freq)"
      ],
      "metadata": {
        "colab": {
          "base_uri": "https://localhost:8080/"
        },
        "id": "ivsoOLPw7n3R",
        "outputId": "c03ff934-79ad-41ac-fff5-acd7904f0411"
      },
      "execution_count": 78,
      "outputs": [
        {
          "output_type": "stream",
          "name": "stdout",
          "text": [
            "        Data  Tempo  Grupo2  Grupo3  Unnamed: 5  Unnamed: 6\n",
            "Grupo1                                                     \n",
            "0       2656   2656    2656    2656           0           1\n",
            "1        125    125     125     125           0           0\n",
            "2         42     42      42      42           0           0\n",
            "5          1      1       1       1           0           0\n",
            "7          1      1       1       1           0           0\n",
            "12         1      1       1       1           0           0\n",
            "15         1      1       1       1           0           0\n",
            "22         1      1       1       1           0           0\n",
            "26         1      1       1       1           0           0\n",
            "29         2      2       2       2           0           0\n",
            "36         5      5       5       5           0           0\n",
            "37        34     34      34      34           0           0\n",
            "38        10     10      10      10           0           0\n",
            "        Data  Tempo  Grupo1  Grupo3  Unnamed: 5  Unnamed: 6\n",
            "Grupo2                                                     \n",
            "0       2055   2055    2055    2055           0           0\n",
            "1        555    555     555     555           0           0\n",
            "2        182    182     182     182           0           1\n",
            "3         11     11      11      11           0           0\n",
            "4          4      4       4       4           0           0\n",
            "5          2      2       2       2           0           0\n",
            "6          2      2       2       2           0           0\n",
            "10         1      1       1       1           0           0\n",
            "11         1      1       1       1           0           0\n",
            "13         1      1       1       1           0           0\n",
            "16         1      1       1       1           0           0\n",
            "18         1      1       1       1           0           0\n",
            "21         1      1       1       1           0           0\n",
            "22         2      2       2       2           0           0\n",
            "24         1      1       1       1           0           0\n",
            "25         2      2       2       2           0           0\n",
            "27         1      1       1       1           0           0\n",
            "28         2      2       2       2           0           0\n",
            "30         1      1       1       1           0           0\n",
            "31         1      1       1       1           0           0\n",
            "34         3      3       3       3           0           0\n",
            "35        12     12      12      12           0           0\n",
            "36        24     24      24      24           0           0\n",
            "38         3      3       3       3           0           0\n",
            "39         7      7       7       7           0           0\n",
            "40         4      4       4       4           0           0\n",
            "        Data  Tempo  Grupo1  Grupo2  Unnamed: 5  Unnamed: 6\n",
            "Grupo3                                                     \n",
            "0       1889   1889    1889    1889           0           1\n",
            "1          1      1       1       1           0           0\n",
            "3          1      1       1       1           0           0\n",
            "5          2      2       2       2           0           0\n",
            "6          1      1       1       1           0           0\n",
            "7          2      2       2       2           0           0\n",
            "8          1      1       1       1           0           0\n",
            "12         1      1       1       1           0           0\n",
            "13         3      3       3       3           0           0\n",
            "14         2      2       2       2           0           0\n",
            "15         1      1       1       1           0           0\n",
            "16        46     46      46      46           0           0\n",
            "17       351    351     351     351           0           0\n",
            "18       544    544     544     544           0           0\n",
            "19        35     35      35      35           0           0\n"
          ]
        }
      ]
    },
    {
      "cell_type": "code",
      "source": [
        ""
      ],
      "metadata": {
        "id": "DL9Kjxeg7r_R"
      },
      "execution_count": null,
      "outputs": []
    }
  ]
}