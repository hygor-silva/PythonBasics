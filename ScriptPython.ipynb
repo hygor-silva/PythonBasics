{
  "nbformat": 4,
  "nbformat_minor": 0,
  "metadata": {
    "colab": {
      "name": "ScriptPython.ipynb",
      "provenance": [],
      "collapsed_sections": [],
      "authorship_tag": "ABX9TyMnd9NhDenvLHS+HYjzZMk8",
      "include_colab_link": true
    },
    "kernelspec": {
      "name": "python3",
      "display_name": "Python 3"
    },
    "language_info": {
      "name": "python"
    }
  },
  "cells": [
    {
      "cell_type": "markdown",
      "metadata": {
        "id": "view-in-github",
        "colab_type": "text"
      },
      "source": [
        "<a href=\"https://colab.research.google.com/github/hygor-silva/PythonBasics/blob/main/ScriptPython.ipynb\" target=\"_parent\"><img src=\"https://colab.research.google.com/assets/colab-badge.svg\" alt=\"Open In Colab\"/></a>"
      ]
    },
    {
      "cell_type": "code",
      "execution_count": null,
      "metadata": {
        "id": "EzlA9O-MrSo2"
      },
      "outputs": [],
      "source": [
        ""
      ]
    },
    {
      "cell_type": "markdown",
      "source": [
        "Primeira Seção"
      ],
      "metadata": {
        "id": "UIUvxhevr5vL"
      }
    },
    {
      "cell_type": "code",
      "source": [
        "print(\"Bem vindo ao curso de Python!\")"
      ],
      "metadata": {
        "colab": {
          "base_uri": "https://localhost:8080/"
        },
        "id": "xOKK7wZ2sAgk",
        "outputId": "c2755629-dab1-49a8-ba64-0c382649e3b8"
      },
      "execution_count": null,
      "outputs": [
        {
          "output_type": "stream",
          "name": "stdout",
          "text": [
            "Bem vindo ao curso de Python!\n"
          ]
        }
      ]
    },
    {
      "cell_type": "code",
      "source": [
        "nome = \"Hygor Silva\""
      ],
      "metadata": {
        "id": "sur2_p7tthwK"
      },
      "execution_count": null,
      "outputs": []
    },
    {
      "cell_type": "code",
      "source": [
        "nome"
      ],
      "metadata": {
        "colab": {
          "base_uri": "https://localhost:8080/",
          "height": 35
        },
        "id": "vGO2Nbg4wXWD",
        "outputId": "606c5934-2d73-4c3e-a3ec-48d46afdef56"
      },
      "execution_count": null,
      "outputs": [
        {
          "output_type": "execute_result",
          "data": {
            "text/plain": [
              "'Hygor Silva'"
            ],
            "application/vnd.google.colaboratory.intrinsic+json": {
              "type": "string"
            }
          },
          "metadata": {},
          "execution_count": 3
        }
      ]
    },
    {
      "cell_type": "code",
      "source": [
        "'''\n",
        "Variáveis de texto\n",
        "Var_texto = 'Qualquer coisa'\n",
        "Var_texto = str('Qualquer coisa')\n",
        "\n",
        "'''"
      ],
      "metadata": {
        "colab": {
          "base_uri": "https://localhost:8080/",
          "height": 35
        },
        "id": "AXWqEreJwY3i",
        "outputId": "b72dc110-e1d7-4566-d6af-48b4209d831b"
      },
      "execution_count": null,
      "outputs": [
        {
          "output_type": "execute_result",
          "data": {
            "text/plain": [
              "\"\\nVariáveis de texto\\nVar_texto = 'Qualquer coisa'\\nVar_texto = str('Qualquer coisa')\\n\\n\""
            ],
            "application/vnd.google.colaboratory.intrinsic+json": {
              "type": "string"
            }
          },
          "metadata": {},
          "execution_count": 4
        }
      ]
    },
    {
      "cell_type": "code",
      "source": [
        "'''\n",
        "Variáveis numéricos\n",
        "Var_inteiro = 100\n",
        "Var_inteiro = int( 100 )\n",
        "\n",
        "Var_flutuante = 10.90\n",
        "Var_flutuante = float( 10.90)\n",
        "\n",
        "Var_booleano = True\n",
        "Var_booleano = False\n",
        "\n",
        "'''"
      ],
      "metadata": {
        "colab": {
          "base_uri": "https://localhost:8080/",
          "height": 53
        },
        "id": "7vtZvV_Pw-SO",
        "outputId": "19f4b913-a3b9-45fd-b18b-e0978b96c3ba"
      },
      "execution_count": null,
      "outputs": [
        {
          "output_type": "execute_result",
          "data": {
            "text/plain": [
              "'\\nVariáveis numéricos\\nVar_inteiro = 100\\nVar_inteiro = int( 100 )\\n\\nVar_flutuante = 10.90\\nVar_flutuante = float( 10.90)\\n\\nVar_booleano = True\\nVar_booleano = False\\n\\n'"
            ],
            "application/vnd.google.colaboratory.intrinsic+json": {
              "type": "string"
            }
          },
          "metadata": {},
          "execution_count": 6
        }
      ]
    },
    {
      "cell_type": "code",
      "source": [
        "'''\n",
        "Tipos de dados\n",
        "\n",
        "1 - Listas - São criadas usando []\n",
        "2 - Tuplas - São criadas usando () #São imutáveis\n",
        "3 - Dicionários - São criados usando {}\n",
        "\n",
        "Lista = [1,2,3,4,5]\n",
        "Lista = ['nome', sobrenome, 'idade', 4, 5]\n",
        "Lista = [1 , 'texto', true, [1, 2, 3]]\n",
        "\n",
        "Tupla (1, 2, 3)\n",
        "Tupla (1 , 'texto', true)\n",
        "\n",
        "Dicionario = {\n",
        "  'index' = 'valor',\n",
        "  'Id' : 1\n",
        "}\n",
        "\n",
        "'''"
      ],
      "metadata": {
        "colab": {
          "base_uri": "https://localhost:8080/",
          "height": 70
        },
        "id": "NLJWjHUsxy-V",
        "outputId": "d856d8f4-64d2-411a-f46b-5c6fa65da9f9"
      },
      "execution_count": null,
      "outputs": [
        {
          "output_type": "execute_result",
          "data": {
            "text/plain": [
              "\"\\nTipos de dados\\n\\n1 - Listas - São criadas usando []\\n2 - Tuplas - São criadas usando () #São imutáveis\\n3 - Dicionários - São criados usando {}\\n\\nLista = [1,2,3,4,5]\\nLista = ['nome', sobrenome, 'idade', 4, 5]\\nLista = [1 , 'texto', true, [1, 2, 3]]\\n\\nTupla (1, 2, 3)\\nTupla (1 , 'texto', true)\\n\\nDicionario = {\\n  'index' = 'valor',\\n  'Id' : 1\\n}\\n\\n\""
            ],
            "application/vnd.google.colaboratory.intrinsic+json": {
              "type": "string"
            }
          },
          "metadata": {},
          "execution_count": 4
        }
      ]
    },
    {
      "cell_type": "code",
      "source": [
        "'''\n",
        "Tipos de informação\n",
        "'''\n",
        "String = str('Olá mundo')\n",
        "Inteiro = int(10)\n",
        "Flutuante = float(100.50)\n",
        "Complex = complex(1j)\n",
        "Lista = list('maçã, morando')\n",
        "Tupla = tuple(('a', 'b'))\n",
        "Range = range(6)\n",
        "Dicionario = dict (nome= 'Hygor', age=30)\n",
        "Set = set(('a', 'b', 'c'))\n",
        "Fronzet = frozenset(('a', 'b', 'c'))\n",
        "Boleano = bool (5)\n",
        "Bytes = bytes (5)\n",
        "ByteArray = bytearray (5)\n",
        "Memoryview = memoryview(bytes(5))\n",
        "\n",
        "from datetime import datetime\n",
        "\n",
        "Data = datetime.today().date()"
      ],
      "metadata": {
        "id": "vgOU29Uj2wMf"
      },
      "execution_count": null,
      "outputs": []
    },
    {
      "cell_type": "code",
      "source": [
        "type (Boleano)"
      ],
      "metadata": {
        "colab": {
          "base_uri": "https://localhost:8080/"
        },
        "id": "HQRLfcF86Ov2",
        "outputId": "c5794c6f-4271-4d74-95e5-e64044bfa6e5"
      },
      "execution_count": null,
      "outputs": [
        {
          "output_type": "execute_result",
          "data": {
            "text/plain": [
              "bool"
            ]
          },
          "metadata": {},
          "execution_count": 7
        }
      ]
    },
    {
      "cell_type": "code",
      "source": [
        "valor = 12.71265432156431"
      ],
      "metadata": {
        "id": "HNrS6kBNi5kB"
      },
      "execution_count": null,
      "outputs": []
    },
    {
      "cell_type": "code",
      "source": [
        "print(valor)"
      ],
      "metadata": {
        "colab": {
          "base_uri": "https://localhost:8080/"
        },
        "id": "XOUBHhYVjfMP",
        "outputId": "441e1b8d-09a6-48d1-8699-5f58fcf77194"
      },
      "execution_count": null,
      "outputs": [
        {
          "output_type": "stream",
          "name": "stdout",
          "text": [
            "12.71265432156431\n"
          ]
        }
      ]
    },
    {
      "cell_type": "code",
      "source": [
        "round(valor, 4)"
      ],
      "metadata": {
        "colab": {
          "base_uri": "https://localhost:8080/"
        },
        "id": "wzQ9aMOJjhiQ",
        "outputId": "edf79edc-1adb-4f83-d056-fa981772fc46"
      },
      "execution_count": null,
      "outputs": [
        {
          "output_type": "execute_result",
          "data": {
            "text/plain": [
              "12.7127"
            ]
          },
          "metadata": {},
          "execution_count": 11
        }
      ]
    },
    {
      "cell_type": "code",
      "source": [
        "'''\n",
        "Comando len = comando lenth do Java\n",
        "'''\n",
        "Lista = [1, 2, 3, 4, 5, 6, 7, 8, 9, 10]\n",
        "Dicionario = {'Nome': 'Hygor', 'Idade':30}"
      ],
      "metadata": {
        "id": "ybuzwImqjkkg"
      },
      "execution_count": null,
      "outputs": []
    },
    {
      "cell_type": "code",
      "source": [
        "len(Lista)"
      ],
      "metadata": {
        "colab": {
          "base_uri": "https://localhost:8080/"
        },
        "id": "dNOq_65akjVT",
        "outputId": "132164e7-9ad7-4742-acfc-77d78f041dca"
      },
      "execution_count": null,
      "outputs": [
        {
          "output_type": "execute_result",
          "data": {
            "text/plain": [
              "10"
            ]
          },
          "metadata": {},
          "execution_count": 14
        }
      ]
    },
    {
      "cell_type": "code",
      "source": [
        "len(Dicionario)"
      ],
      "metadata": {
        "colab": {
          "base_uri": "https://localhost:8080/"
        },
        "id": "angjPfhLklnh",
        "outputId": "1adcbe41-ee45-4231-9390-480ed74dff00"
      },
      "execution_count": null,
      "outputs": [
        {
          "output_type": "execute_result",
          "data": {
            "text/plain": [
              "2"
            ]
          },
          "metadata": {},
          "execution_count": 15
        }
      ]
    },
    {
      "cell_type": "code",
      "source": [
        "'''\n",
        "Manipulação de String\n",
        "Comandos:\n",
        "1. replace() -> substitui conteúdo da string\n",
        "2. startswith() -> verifica se string começa com o valor passado como parâmetro (Case sensitive e retorna booleano)\n",
        "3. endswith() -> verifica se string termina com o valor passado como parâmetro (Case sensitive e retorna booleano)\n",
        "4. count() -> conta a quantidade de vezes que o parâmetro aparece na string (Case sensitive)\n",
        "5. capitalize() -> Transforma a primeira letra da string em maiúscula\n",
        "6. isdigit() -> verifica se existe apenas valores numéricos na string\n",
        "7. isalnum() -> verifica se existe apenas valores numéricos na string\n",
        "8. upper() -> transforma todas as letras da string em maiúsculas\n",
        "9. lower() -> transforma todas as letras da string em minúsculas\n",
        "10. find() -> encontra a posição do paramêtro passado dentro da string\n",
        "11. strip() -> remove o espaço antes e depois do texto\n",
        "12. split() -> separa a string usando o parâmetro passado\n",
        "'''"
      ],
      "metadata": {
        "colab": {
          "base_uri": "https://localhost:8080/",
          "height": 53
        },
        "id": "j42p6aw2koXK",
        "outputId": "93ea3fe9-6b45-4e47-f01d-72a6d86353d1"
      },
      "execution_count": null,
      "outputs": [
        {
          "output_type": "execute_result",
          "data": {
            "text/plain": [
              "'\\nManipulação de String\\nComandos:\\n1. replace()\\n2. startswith()\\n3. endswith()\\n4. count()\\n5. capitalize()\\n6. isdigit()\\n7. isalnum()\\n8. upper()\\n9. lower()\\n10. find()\\n11. strip()\\n12. spli()\\n'"
            ],
            "application/vnd.google.colaboratory.intrinsic+json": {
              "type": "string"
            }
          },
          "metadata": {},
          "execution_count": 16
        }
      ]
    },
    {
      "cell_type": "code",
      "source": [
        "string = 'Olá mundo!'\n",
        "print(string)"
      ],
      "metadata": {
        "colab": {
          "base_uri": "https://localhost:8080/"
        },
        "id": "t9LRVfZSmxtR",
        "outputId": "9526cb39-5b36-4a30-beeb-82665742f3b0"
      },
      "execution_count": null,
      "outputs": [
        {
          "output_type": "stream",
          "name": "stdout",
          "text": [
            "Olá mundo!\n"
          ]
        }
      ]
    },
    {
      "cell_type": "code",
      "source": [
        "string.replace('mundo', 'Mundo!')"
      ],
      "metadata": {
        "colab": {
          "base_uri": "https://localhost:8080/",
          "height": 35
        },
        "id": "GcbipQ8om6iE",
        "outputId": "7068a55b-0ac2-44f7-95c1-862d1c828462"
      },
      "execution_count": null,
      "outputs": [
        {
          "output_type": "execute_result",
          "data": {
            "text/plain": [
              "'Olá Mundo!!'"
            ],
            "application/vnd.google.colaboratory.intrinsic+json": {
              "type": "string"
            }
          },
          "metadata": {},
          "execution_count": 18
        }
      ]
    },
    {
      "cell_type": "code",
      "source": [
        "string.startswith('o')"
      ],
      "metadata": {
        "colab": {
          "base_uri": "https://localhost:8080/"
        },
        "id": "RfzKFyrnnDtU",
        "outputId": "8abb5061-83f3-4590-acd5-a7f61b77f7f7"
      },
      "execution_count": null,
      "outputs": [
        {
          "output_type": "execute_result",
          "data": {
            "text/plain": [
              "False"
            ]
          },
          "metadata": {},
          "execution_count": 21
        }
      ]
    },
    {
      "cell_type": "code",
      "source": [
        "string.endswith('o!')"
      ],
      "metadata": {
        "colab": {
          "base_uri": "https://localhost:8080/"
        },
        "id": "2bzJGtTknsJw",
        "outputId": "1bde655a-b7a6-485b-b09c-d9318341ded8"
      },
      "execution_count": null,
      "outputs": [
        {
          "output_type": "execute_result",
          "data": {
            "text/plain": [
              "True"
            ]
          },
          "metadata": {},
          "execution_count": 25
        }
      ]
    },
    {
      "cell_type": "code",
      "source": [
        "string.count('O')"
      ],
      "metadata": {
        "colab": {
          "base_uri": "https://localhost:8080/"
        },
        "id": "Z-e7Vis3oYiP",
        "outputId": "54fced26-bee8-4667-8650-1a14f18254fd"
      },
      "execution_count": null,
      "outputs": [
        {
          "output_type": "execute_result",
          "data": {
            "text/plain": [
              "1"
            ]
          },
          "metadata": {},
          "execution_count": 28
        }
      ]
    },
    {
      "cell_type": "code",
      "source": [
        "string_cpf = '1234567890'"
      ],
      "metadata": {
        "id": "FxspPCbrrahC"
      },
      "execution_count": null,
      "outputs": []
    },
    {
      "cell_type": "code",
      "source": [
        "string_cpf.isalnum()"
      ],
      "metadata": {
        "colab": {
          "base_uri": "https://localhost:8080/"
        },
        "id": "P-QpuzBPuGJ3",
        "outputId": "81c124a2-e50c-43b3-d2dd-817fd1496ab4"
      },
      "execution_count": null,
      "outputs": [
        {
          "output_type": "execute_result",
          "data": {
            "text/plain": [
              "True"
            ]
          },
          "metadata": {},
          "execution_count": 37
        }
      ]
    },
    {
      "cell_type": "code",
      "source": [
        "string.upper()"
      ],
      "metadata": {
        "colab": {
          "base_uri": "https://localhost:8080/",
          "height": 35
        },
        "id": "6859h9DbuLj-",
        "outputId": "6d930347-4e58-414b-b4ea-3800fa4d7b17"
      },
      "execution_count": null,
      "outputs": [
        {
          "output_type": "execute_result",
          "data": {
            "text/plain": [
              "'OLÁ MUNDO!'"
            ],
            "application/vnd.google.colaboratory.intrinsic+json": {
              "type": "string"
            }
          },
          "metadata": {},
          "execution_count": 39
        }
      ]
    },
    {
      "cell_type": "code",
      "source": [
        "string.find('u')"
      ],
      "metadata": {
        "colab": {
          "base_uri": "https://localhost:8080/"
        },
        "id": "mTpvPnWzvDoq",
        "outputId": "06448ed5-f01c-4c93-b4d4-fa74ed16fb95"
      },
      "execution_count": null,
      "outputs": [
        {
          "output_type": "execute_result",
          "data": {
            "text/plain": [
              "5"
            ]
          },
          "metadata": {},
          "execution_count": 40
        }
      ]
    },
    {
      "cell_type": "code",
      "source": [
        "palavra = 'Esplanada, Plano Piloto, Brasília, DF'"
      ],
      "metadata": {
        "id": "ZL3woZ38vVWs"
      },
      "execution_count": null,
      "outputs": []
    },
    {
      "cell_type": "code",
      "source": [
        "palavra.split(',')"
      ],
      "metadata": {
        "colab": {
          "base_uri": "https://localhost:8080/"
        },
        "id": "B81ECNU3wUzg",
        "outputId": "a0d89d97-0bf0-4524-d3da-5717f86a990a"
      },
      "execution_count": null,
      "outputs": [
        {
          "output_type": "execute_result",
          "data": {
            "text/plain": [
              "['Esplanada', ' Plano Piloto', ' Brasília', ' DF']"
            ]
          },
          "metadata": {},
          "execution_count": 42
        }
      ]
    },
    {
      "cell_type": "code",
      "source": [
        "#input -> Usado pra testar funções "
      ],
      "metadata": {
        "id": "BtfrY9ZEwXa4"
      },
      "execution_count": null,
      "outputs": []
    },
    {
      "cell_type": "code",
      "source": [
        "# Form\n",
        "nome = input('QUal seu nome: ')\n",
        "idade = input('Qual sua idade: ')\n",
        "\n",
        "print('Seu nome é: ', nome)\n",
        "print('Sua idade é: ', idade)"
      ],
      "metadata": {
        "colab": {
          "base_uri": "https://localhost:8080/"
        },
        "id": "snOuccxVGCuP",
        "outputId": "0b836a05-ff58-4092-c864-1687a02a1eb6"
      },
      "execution_count": null,
      "outputs": [
        {
          "output_type": "stream",
          "name": "stdout",
          "text": [
            "QUal seu nome: Hygor\n",
            "Qual sua idade: 30\n",
            "Seu nome é:  Hygor\n",
            "Sua idade é:  30\n"
          ]
        }
      ]
    },
    {
      "cell_type": "code",
      "source": [
        "'''\n",
        "Operadores de comparação \n",
        "\n",
        "1. == igual a\n",
        "2. != diferente de \n",
        "3. > maior que\n",
        "4. < menor que\n",
        "5. >= maior ou igual a\n",
        "6. <= menor ou igual a\n",
        "\n",
        "'''"
      ],
      "metadata": {
        "colab": {
          "base_uri": "https://localhost:8080/",
          "height": 53
        },
        "id": "OOkYCyoQGXkF",
        "outputId": "4540a18a-0b01-455d-95f4-6c84fe0ea4f3"
      },
      "execution_count": null,
      "outputs": [
        {
          "output_type": "execute_result",
          "data": {
            "text/plain": [
              "'\\nOperadores de comparação \\n\\n1. == igual a\\n2. != diferente de \\n3. > maior que\\n4. < menor que\\n5. >= maior ou igual a\\n6. <= menor ou igual a\\n\\n'"
            ],
            "application/vnd.google.colaboratory.intrinsic+json": {
              "type": "string"
            }
          },
          "metadata": {},
          "execution_count": 3
        }
      ]
    },
    {
      "cell_type": "code",
      "source": [
        "'''\n",
        "Operadores lógicos\n",
        "\n",
        "1. and \n",
        "2. or\n",
        "3. not\n",
        "'''"
      ],
      "metadata": {
        "colab": {
          "base_uri": "https://localhost:8080/",
          "height": 35
        },
        "id": "3oy7KscRHMMd",
        "outputId": "54baa585-93f0-4420-f91e-fcd2c0d380fa"
      },
      "execution_count": null,
      "outputs": [
        {
          "output_type": "execute_result",
          "data": {
            "text/plain": [
              "'\\nOperadores lógicos\\n\\n1. and \\n2. or\\n3. not\\n'"
            ],
            "application/vnd.google.colaboratory.intrinsic+json": {
              "type": "string"
            }
          },
          "metadata": {},
          "execution_count": 4
        }
      ]
    },
    {
      "cell_type": "code",
      "source": [
        "'''\n",
        "Operadores de identidade\n",
        "Usado para comprar itens\n",
        "\n",
        "1. is \n",
        "2. is not\n",
        "'''"
      ],
      "metadata": {
        "colab": {
          "base_uri": "https://localhost:8080/",
          "height": 35
        },
        "id": "h3XvgR80Hk94",
        "outputId": "de4ad6b0-f7f8-46bf-9b48-6261ca3930d9"
      },
      "execution_count": null,
      "outputs": [
        {
          "output_type": "execute_result",
          "data": {
            "text/plain": [
              "'\\nOperadores de identidade\\nUsado para comprar itens\\n\\n1. is \\n2. is not\\n'"
            ],
            "application/vnd.google.colaboratory.intrinsic+json": {
              "type": "string"
            }
          },
          "metadata": {},
          "execution_count": 5
        }
      ]
    },
    {
      "cell_type": "code",
      "source": [
        "'''\n",
        "Operadores de associação\n",
        "Verifica se o valor informado como paramêtro existe dentro do objeto especificado \n",
        "\n",
        "1. in\n",
        "2. not in\n",
        "'''"
      ],
      "metadata": {
        "colab": {
          "base_uri": "https://localhost:8080/",
          "height": 35
        },
        "id": "VOuRtwgTH32P",
        "outputId": "32b714fe-1687-484c-cdf0-78e22096b196"
      },
      "execution_count": null,
      "outputs": [
        {
          "output_type": "execute_result",
          "data": {
            "text/plain": [
              "'\\nOperadores de associação\\nVerifica se o valor informado como paramêtro existe dentro do objeto especificado \\n\\n1. in\\n2. not in\\n'"
            ],
            "application/vnd.google.colaboratory.intrinsic+json": {
              "type": "string"
            }
          },
          "metadata": {},
          "execution_count": 6
        }
      ]
    },
    {
      "cell_type": "code",
      "source": [
        "'''\n",
        "Manipulação de Listas\n",
        "Comandos:\n",
        "1. append() -> adicionar um item ao final da lista\n",
        "2. len() -> calcula o tamanho da lista\n",
        "3. [] -> acessar posições da lista\n",
        "4. del() -> excluir um elemento da lista\n",
        "5. clear() -> limpar a lista\n",
        "6. insert() -> adicionar um item num índice (posição do arry) especificado \n",
        "7. extend() -> anexar elementos de outra lista à lista atual\n",
        "8. remove() -> remove o item especificado\n",
        "9. pop() -> remove o índice especificado\n",
        "10. sort() -> ordenar os valores da lista\n",
        "11. copy() -> faz uma cópia da lista\n",
        "12. index() -> retorna o index do elemento da lista\n",
        "'''"
      ],
      "metadata": {
        "colab": {
          "base_uri": "https://localhost:8080/",
          "height": 87
        },
        "id": "IDKwsyXxISpY",
        "outputId": "7319da38-bbe2-4714-8de0-5066d64f0c10"
      },
      "execution_count": null,
      "outputs": [
        {
          "output_type": "execute_result",
          "data": {
            "text/plain": [
              "'\\nManipulação de Listas\\nComandos:\\n1. append() -> adicionar um item ao final da lista\\n2. len() -> calcula o tamanho da lista\\n3. [] -> acessar posições da lista\\n4. del() -> excluir um elemento da lista\\n5. clear() -> limpar a lista\\n6. insert() -> adicionar um item num índice (posição do arry) especificado \\n7. extend() -> anexar elementos de outra lista à lista atual\\n8. remove() -> remove o item especificado\\n9. pop() -> remove o índice especificado\\n10. sort() -> ordenar os valores da lista\\n11. copy() -> faz uma cópia da lista\\n12. index() -> retorna o index do elemento da lista\\n'"
            ],
            "application/vnd.google.colaboratory.intrinsic+json": {
              "type": "string"
            }
          },
          "metadata": {},
          "execution_count": 7
        }
      ]
    },
    {
      "cell_type": "code",
      "source": [
        "lista_vazia = []"
      ],
      "metadata": {
        "id": "UnMV01kIJvPs"
      },
      "execution_count": null,
      "outputs": []
    },
    {
      "cell_type": "code",
      "source": [
        "print(lista_vazia)"
      ],
      "metadata": {
        "colab": {
          "base_uri": "https://localhost:8080/"
        },
        "id": "fl2KWVZIJ22B",
        "outputId": "fb27fb6e-6060-47e1-b5bd-7fe49df56a0d"
      },
      "execution_count": null,
      "outputs": [
        {
          "output_type": "stream",
          "name": "stdout",
          "text": [
            "[1, 2, 3, 'teste']\n"
          ]
        }
      ]
    },
    {
      "cell_type": "code",
      "source": [
        "lista_vazia.append(1)\n",
        "lista_vazia.append(2)\n",
        "lista_vazia.append(3)\n",
        "lista_vazia.append('teste')"
      ],
      "metadata": {
        "id": "kbGttceYJ5Oa"
      },
      "execution_count": null,
      "outputs": []
    },
    {
      "cell_type": "code",
      "source": [
        "len(lista_vazia)"
      ],
      "metadata": {
        "colab": {
          "base_uri": "https://localhost:8080/"
        },
        "id": "p_KxN3FAKDta",
        "outputId": "c731c833-61ca-419f-e3b8-0b9596982709"
      },
      "execution_count": null,
      "outputs": [
        {
          "output_type": "execute_result",
          "data": {
            "text/plain": [
              "0"
            ]
          },
          "metadata": {},
          "execution_count": 15
        }
      ]
    },
    {
      "cell_type": "code",
      "source": [
        "lista_vazia.insert(1, '1,5')\n",
        "lista_vazia\n"
      ],
      "metadata": {
        "colab": {
          "base_uri": "https://localhost:8080/"
        },
        "id": "NOVB1jWRKLDj",
        "outputId": "66e4cbe9-befc-406d-cd17-d9e87e1a535a"
      },
      "execution_count": null,
      "outputs": [
        {
          "output_type": "execute_result",
          "data": {
            "text/plain": [
              "[1, '1,5', 2, 3, 'teste']"
            ]
          },
          "metadata": {},
          "execution_count": 17
        }
      ]
    },
    {
      "cell_type": "code",
      "source": [
        "lista1 = [1, 2, 3]\n",
        "lista2 = [4, 5, 6]\n",
        "lista1.extend(lista2)"
      ],
      "metadata": {
        "id": "aWXKu-0LLF0-"
      },
      "execution_count": null,
      "outputs": []
    },
    {
      "cell_type": "code",
      "source": [
        "lista1"
      ],
      "metadata": {
        "colab": {
          "base_uri": "https://localhost:8080/"
        },
        "id": "z4FT5X4oK7hL",
        "outputId": "a31521aa-b3b7-49d3-deef-8e944dd94e57"
      },
      "execution_count": null,
      "outputs": [
        {
          "output_type": "execute_result",
          "data": {
            "text/plain": [
              "[1, 2, 3, 4, 5]"
            ]
          },
          "metadata": {},
          "execution_count": 21
        }
      ]
    },
    {
      "cell_type": "code",
      "source": [
        "lista1.remove(6)"
      ],
      "metadata": {
        "id": "bORxdEYsLWp5"
      },
      "execution_count": null,
      "outputs": []
    },
    {
      "cell_type": "code",
      "source": [
        "lista1.pop(3)\n",
        "lista1"
      ],
      "metadata": {
        "colab": {
          "base_uri": "https://localhost:8080/"
        },
        "id": "0oMtIijBLckb",
        "outputId": "1677e6fc-522b-45f0-d034-0c6c22276e5a"
      },
      "execution_count": null,
      "outputs": [
        {
          "output_type": "execute_result",
          "data": {
            "text/plain": [
              "[1, 2, 3, 5]"
            ]
          },
          "metadata": {},
          "execution_count": 22
        }
      ]
    },
    {
      "cell_type": "code",
      "source": [
        "lista_abc = ['z', 'b', 'l', 'J', 'A']\n",
        "lista_abc\n"
      ],
      "metadata": {
        "colab": {
          "base_uri": "https://localhost:8080/"
        },
        "id": "1L-IPMChLlbn",
        "outputId": "e4407e42-05da-4087-cf0e-2b294b7f7b06"
      },
      "execution_count": null,
      "outputs": [
        {
          "output_type": "execute_result",
          "data": {
            "text/plain": [
              "['z', 'b', 'l', 'J', 'A']"
            ]
          },
          "metadata": {},
          "execution_count": 24
        }
      ]
    },
    {
      "cell_type": "code",
      "source": [
        "lista_abc.sort(reverse = True)\n",
        "lista_abc"
      ],
      "metadata": {
        "colab": {
          "base_uri": "https://localhost:8080/"
        },
        "id": "BtnD7g1GMaFM",
        "outputId": "3984a2f7-134f-43d0-a495-a93183f0f140"
      },
      "execution_count": null,
      "outputs": [
        {
          "output_type": "execute_result",
          "data": {
            "text/plain": [
              "['z', 'l', 'b', 'J', 'A']"
            ]
          },
          "metadata": {},
          "execution_count": 28
        }
      ]
    },
    {
      "cell_type": "code",
      "source": [
        "import datetime"
      ],
      "metadata": {
        "id": "PHBxxijBMhcO"
      },
      "execution_count": null,
      "outputs": []
    },
    {
      "cell_type": "code",
      "source": [
        "dia = datetime.datetime.today()\n",
        "print(dia)"
      ],
      "metadata": {
        "colab": {
          "base_uri": "https://localhost:8080/"
        },
        "id": "XSgAC82OhZGI",
        "outputId": "b856663d-366c-43be-d643-7f04dd8744f7"
      },
      "execution_count": null,
      "outputs": [
        {
          "output_type": "stream",
          "name": "stdout",
          "text": [
            "2022-04-27 19:36:15.187142\n"
          ]
        }
      ]
    },
    {
      "cell_type": "code",
      "source": [
        "print (datetime.datetime.today().date())"
      ],
      "metadata": {
        "colab": {
          "base_uri": "https://localhost:8080/"
        },
        "id": "V7k_vXCjhiyH",
        "outputId": "c8669ecf-a5c6-4a38-a9b0-7cb559db5322"
      },
      "execution_count": null,
      "outputs": [
        {
          "output_type": "stream",
          "name": "stdout",
          "text": [
            "2022-04-27\n"
          ]
        }
      ]
    },
    {
      "cell_type": "code",
      "source": [
        "data = datetime.datetime.today().date()\n",
        "data_antiga = datetime.date(2022, 1, 1)\n"
      ],
      "metadata": {
        "id": "PUnCXNc6h91v"
      },
      "execution_count": null,
      "outputs": []
    },
    {
      "cell_type": "code",
      "source": [
        "data - data_antiga"
      ],
      "metadata": {
        "colab": {
          "base_uri": "https://localhost:8080/"
        },
        "id": "XuBdTiSaid97",
        "outputId": "da0afc6a-496b-427b-a185-9f2f5a1aaf65"
      },
      "execution_count": null,
      "outputs": [
        {
          "output_type": "execute_result",
          "data": {
            "text/plain": [
              "datetime.timedelta(days=116)"
            ]
          },
          "metadata": {},
          "execution_count": 38
        }
      ]
    },
    {
      "cell_type": "code",
      "source": [
        "data.strftime('%d/%m/%y')"
      ],
      "metadata": {
        "colab": {
          "base_uri": "https://localhost:8080/",
          "height": 35
        },
        "id": "pq09UDSmilpj",
        "outputId": "b27d218d-7854-47d8-98b1-0c0f12f41deb"
      },
      "execution_count": null,
      "outputs": [
        {
          "output_type": "execute_result",
          "data": {
            "text/plain": [
              "'27/04/22'"
            ],
            "application/vnd.google.colaboratory.intrinsic+json": {
              "type": "string"
            }
          },
          "metadata": {},
          "execution_count": 39
        }
      ]
    },
    {
      "cell_type": "code",
      "source": [
        "data + datetime.timedelta(days=30)"
      ],
      "metadata": {
        "colab": {
          "base_uri": "https://localhost:8080/"
        },
        "id": "mUCIllwnjVnu",
        "outputId": "3a5a4ce8-a0cf-4663-b756-6970c5646649"
      },
      "execution_count": null,
      "outputs": [
        {
          "output_type": "execute_result",
          "data": {
            "text/plain": [
              "datetime.date(2022, 5, 27)"
            ]
          },
          "metadata": {},
          "execution_count": 41
        }
      ]
    },
    {
      "cell_type": "code",
      "source": [
        "import time"
      ],
      "metadata": {
        "id": "J5-vweRPjq54"
      },
      "execution_count": null,
      "outputs": []
    },
    {
      "cell_type": "code",
      "source": [
        "print ('comecei...')\n",
        "time.sleep(4)\n",
        "print ('terminei....')\n"
      ],
      "metadata": {
        "colab": {
          "base_uri": "https://localhost:8080/"
        },
        "id": "WnidkjpJj5b4",
        "outputId": "f39e6dd4-da9d-47de-e770-e531f3470b62"
      },
      "execution_count": null,
      "outputs": [
        {
          "output_type": "stream",
          "name": "stdout",
          "text": [
            "comecei...\n",
            "terminei....\n"
          ]
        }
      ]
    },
    {
      "cell_type": "code",
      "source": [
        "agora = time.localtime()\n",
        "print(agora)\n",
        "print(type(agora))"
      ],
      "metadata": {
        "colab": {
          "base_uri": "https://localhost:8080/"
        },
        "id": "SEv9DHl3kEDS",
        "outputId": "1c749352-3c3d-438c-d4ee-cd70f51e04de"
      },
      "execution_count": null,
      "outputs": [
        {
          "output_type": "stream",
          "name": "stdout",
          "text": [
            "time.struct_time(tm_year=2022, tm_mon=4, tm_mday=27, tm_hour=19, tm_min=50, tm_sec=22, tm_wday=2, tm_yday=117, tm_isdst=0)\n",
            "<class 'time.struct_time'>\n"
          ]
        }
      ]
    },
    {
      "cell_type": "code",
      "source": [
        "time.strftime('%m,%d/%y, %H:%M:%S', agora)"
      ],
      "metadata": {
        "colab": {
          "base_uri": "https://localhost:8080/",
          "height": 35
        },
        "id": "VBULpHR9kt-k",
        "outputId": "a3c98ea4-39e0-423c-9eca-55bccc9afe71"
      },
      "execution_count": null,
      "outputs": [
        {
          "output_type": "execute_result",
          "data": {
            "text/plain": [
              "'04,27/22, 19:50:22'"
            ],
            "application/vnd.google.colaboratory.intrinsic+json": {
              "type": "string"
            }
          },
          "metadata": {},
          "execution_count": 47
        }
      ]
    },
    {
      "cell_type": "code",
      "source": [
        "time_texto = '21 June, 2021'\n",
        "time.strptime(time_texto, '%d %B, %Y')"
      ],
      "metadata": {
        "colab": {
          "base_uri": "https://localhost:8080/"
        },
        "id": "wMYzSWjIk_fk",
        "outputId": "d8640a21-f35a-4379-eaae-050343bb845f"
      },
      "execution_count": null,
      "outputs": [
        {
          "output_type": "execute_result",
          "data": {
            "text/plain": [
              "time.struct_time(tm_year=2021, tm_mon=6, tm_mday=21, tm_hour=0, tm_min=0, tm_sec=0, tm_wday=0, tm_yday=172, tm_isdst=-1)"
            ]
          },
          "metadata": {},
          "execution_count": 52
        }
      ]
    },
    {
      "cell_type": "code",
      "source": [
        "import math"
      ],
      "metadata": {
        "id": "TPXz3IThleCw"
      },
      "execution_count": null,
      "outputs": []
    },
    {
      "cell_type": "code",
      "source": [
        "tupla = 10, 5, 20, 30, 40"
      ],
      "metadata": {
        "id": "OaqR8G8pl89s"
      },
      "execution_count": null,
      "outputs": []
    },
    {
      "cell_type": "code",
      "source": [
        "min(tupla)\n"
      ],
      "metadata": {
        "colab": {
          "base_uri": "https://localhost:8080/"
        },
        "id": "SPmNlh5EmBZs",
        "outputId": "0e12b9e8-d1d4-40fa-92f4-07180a72104f"
      },
      "execution_count": null,
      "outputs": [
        {
          "output_type": "execute_result",
          "data": {
            "text/plain": [
              "5"
            ]
          },
          "metadata": {},
          "execution_count": 56
        }
      ]
    },
    {
      "cell_type": "code",
      "source": [
        "max(tupla)"
      ],
      "metadata": {
        "colab": {
          "base_uri": "https://localhost:8080/"
        },
        "id": "Jb16bfeImFiZ",
        "outputId": "dfb25ff9-ab2b-4d6a-a285-ad6a48e24adc"
      },
      "execution_count": null,
      "outputs": [
        {
          "output_type": "execute_result",
          "data": {
            "text/plain": [
              "40"
            ]
          },
          "metadata": {},
          "execution_count": 58
        }
      ]
    },
    {
      "cell_type": "code",
      "source": [
        "import random"
      ],
      "metadata": {
        "id": "Nkc_BOSjmIdT"
      },
      "execution_count": null,
      "outputs": []
    },
    {
      "cell_type": "code",
      "source": [
        "lista = [1, 2, 3, 4, 5, 6, 7, 8, 9]"
      ],
      "metadata": {
        "id": "f_l7_sXsmqn1"
      },
      "execution_count": null,
      "outputs": []
    },
    {
      "cell_type": "code",
      "source": [
        "random.choice(lista)"
      ],
      "metadata": {
        "colab": {
          "base_uri": "https://localhost:8080/"
        },
        "id": "ro1ngsD8m-TW",
        "outputId": "bbc11509-1841-49c1-f295-82ebd31fda73"
      },
      "execution_count": null,
      "outputs": [
        {
          "output_type": "execute_result",
          "data": {
            "text/plain": [
              "9"
            ]
          },
          "metadata": {},
          "execution_count": 65
        }
      ]
    },
    {
      "cell_type": "code",
      "source": [
        "random.randint(0,1000000)"
      ],
      "metadata": {
        "colab": {
          "base_uri": "https://localhost:8080/"
        },
        "id": "XxZsNPDdnBg8",
        "outputId": "4922846f-fcd2-4c12-8b6c-65ed4a283225"
      },
      "execution_count": null,
      "outputs": [
        {
          "output_type": "execute_result",
          "data": {
            "text/plain": [
              "423845"
            ]
          },
          "metadata": {},
          "execution_count": 71
        }
      ]
    },
    {
      "cell_type": "code",
      "source": [
        "import statistics"
      ],
      "metadata": {
        "id": "ewTa8eTpnVvi"
      },
      "execution_count": null,
      "outputs": []
    },
    {
      "cell_type": "code",
      "source": [
        "lista = [12, 15, 28, 56, 78, 80]"
      ],
      "metadata": {
        "id": "n9EOHNIcnhp8"
      },
      "execution_count": null,
      "outputs": []
    },
    {
      "cell_type": "code",
      "source": [
        "sum(lista) / len(lista) "
      ],
      "metadata": {
        "colab": {
          "base_uri": "https://localhost:8080/"
        },
        "id": "ikykQkMhnp8B",
        "outputId": "102f830f-de81-4105-f23f-3c7466224bfd"
      },
      "execution_count": null,
      "outputs": [
        {
          "output_type": "execute_result",
          "data": {
            "text/plain": [
              "44.833333333333336"
            ]
          },
          "metadata": {},
          "execution_count": 74
        }
      ]
    },
    {
      "cell_type": "code",
      "source": [
        "statistics.mean(lista)"
      ],
      "metadata": {
        "colab": {
          "base_uri": "https://localhost:8080/"
        },
        "id": "_sn-run3n1tC",
        "outputId": "092706c5-b1ae-4390-b34e-d1795c9ab380"
      },
      "execution_count": null,
      "outputs": [
        {
          "output_type": "execute_result",
          "data": {
            "text/plain": [
              "44.833333333333336"
            ]
          },
          "metadata": {},
          "execution_count": 75
        }
      ]
    },
    {
      "cell_type": "code",
      "source": [
        "statistics.median(lista)"
      ],
      "metadata": {
        "colab": {
          "base_uri": "https://localhost:8080/"
        },
        "id": "00OdPoeXn5Qw",
        "outputId": "7526ee2a-803f-47d6-83c4-e9c474ac9296"
      },
      "execution_count": null,
      "outputs": [
        {
          "output_type": "execute_result",
          "data": {
            "text/plain": [
              "42.0"
            ]
          },
          "metadata": {},
          "execution_count": 77
        }
      ]
    },
    {
      "cell_type": "code",
      "source": [
        "Idade = 18\n",
        "\n",
        "if Idade >= 18:\n",
        "  print('Entrou no sistema')\n",
        "elif Idade >=15 and Idade <=17:\n",
        "  print('Peça autorização')\n",
        "else:\n",
        "  print('Não entrou')"
      ],
      "metadata": {
        "colab": {
          "base_uri": "https://localhost:8080/"
        },
        "id": "RLaFKGQmn804",
        "outputId": "9a118813-ab83-4c37-ccab-4425f92dedf1"
      },
      "execution_count": null,
      "outputs": [
        {
          "output_type": "stream",
          "name": "stdout",
          "text": [
            "Entrou no sistema\n"
          ]
        }
      ]
    },
    {
      "cell_type": "code",
      "source": [
        "#Loop for (x+=1 é a forma de incrementar)\n",
        "for variavel in range(10):\n",
        "  print(variavel)"
      ],
      "metadata": {
        "colab": {
          "base_uri": "https://localhost:8080/"
        },
        "id": "m7lgf_cwsfKa",
        "outputId": "304e89e0-c8b9-42b0-84ce-119cf6597d2d"
      },
      "execution_count": null,
      "outputs": [
        {
          "output_type": "stream",
          "name": "stdout",
          "text": [
            "0\n",
            "1\n",
            "2\n",
            "3\n",
            "4\n",
            "5\n",
            "6\n",
            "7\n",
            "8\n",
            "9\n"
          ]
        }
      ]
    },
    {
      "cell_type": "code",
      "source": [
        "lista = ['Brasil', 'Japão', 'EUA', 'China']\n",
        "\n",
        "for x in lista:\n",
        "  if x == 'Brasil':\n",
        "    print(x, ' é um país tropical')\n",
        "  elif x == 'Japão':\n",
        "    print(x, ', a terra do sol nascente')\n",
        "  elif x == 'EUA':\n",
        "    print(x, ', american dream')\n",
        "  elif x == 'China':\n",
        "    print(x, ', fljsdfkdlsjflksd')"
      ],
      "metadata": {
        "colab": {
          "base_uri": "https://localhost:8080/"
        },
        "id": "6Wn2-AlxuXVq",
        "outputId": "5d5d927e-1d33-415e-f8f1-c166a23fd3dc"
      },
      "execution_count": null,
      "outputs": [
        {
          "output_type": "stream",
          "name": "stdout",
          "text": [
            "Brasil  é um país tropical\n",
            "Japão , a terra do sol nascente\n",
            "EUA , american dream\n",
            "China , fljsdfkdlsjflksd\n"
          ]
        }
      ]
    },
    {
      "cell_type": "code",
      "source": [
        "for loop in range(0, len(lista)):\n",
        " print(lista[loop])"
      ],
      "metadata": {
        "colab": {
          "base_uri": "https://localhost:8080/"
        },
        "id": "tWdI3_Rpu3rM",
        "outputId": "6b4d1fe2-bb51-451c-b498-8cf9e2f72612"
      },
      "execution_count": null,
      "outputs": [
        {
          "output_type": "stream",
          "name": "stdout",
          "text": [
            "Brasil\n",
            "Japão\n",
            "EUA\n",
            "China\n"
          ]
        }
      ]
    },
    {
      "cell_type": "code",
      "source": [
        "for index, lista in enumerate(lista):\n",
        "  print(index, lista)"
      ],
      "metadata": {
        "colab": {
          "base_uri": "https://localhost:8080/"
        },
        "id": "qcuKGy_sxeD0",
        "outputId": "680dab4d-aae9-4b8e-bc31-771140feaa3d"
      },
      "execution_count": null,
      "outputs": [
        {
          "output_type": "stream",
          "name": "stdout",
          "text": [
            "0 Brasil\n",
            "1 Japão\n",
            "2 EUA\n",
            "3 China\n"
          ]
        }
      ]
    },
    {
      "cell_type": "code",
      "source": [
        "[numero for numero in range(0,10)]"
      ],
      "metadata": {
        "colab": {
          "base_uri": "https://localhost:8080/"
        },
        "id": "1TXEdaMfywVP",
        "outputId": "e8c45f7c-69fb-4dd1-c8e4-e6a901d1ed12"
      },
      "execution_count": null,
      "outputs": [
        {
          "output_type": "execute_result",
          "data": {
            "text/plain": [
              "[0, 1, 2, 3, 4, 5, 6, 7, 8, 9]"
            ]
          },
          "metadata": {},
          "execution_count": 100
        }
      ]
    },
    {
      "cell_type": "code",
      "source": [
        "lista_limpa=[]\n",
        "\n",
        "for loop in range(0,10):\n",
        "  lista_limpa.append(loop)"
      ],
      "metadata": {
        "id": "_SW1dmj9zolJ"
      },
      "execution_count": null,
      "outputs": []
    },
    {
      "cell_type": "code",
      "source": [
        "lista_limpa"
      ],
      "metadata": {
        "colab": {
          "base_uri": "https://localhost:8080/"
        },
        "id": "bx3RGuAS0Fcb",
        "outputId": "bb226d96-bc70-446f-f82c-cc6a42ba0730"
      },
      "execution_count": null,
      "outputs": [
        {
          "output_type": "execute_result",
          "data": {
            "text/plain": [
              "[0, 1, 2, 3, 4, 5, 6, 7, 8, 9]"
            ]
          },
          "metadata": {},
          "execution_count": 102
        }
      ]
    },
    {
      "cell_type": "code",
      "source": [
        "# Loop while"
      ],
      "metadata": {
        "id": "TJ9JDsvb0IGx"
      },
      "execution_count": null,
      "outputs": []
    },
    {
      "cell_type": "code",
      "source": [
        "parar = 0\n",
        "\n",
        "while parar <= 10:\n",
        "  print(parar)\n",
        "  parar +=1\n"
      ],
      "metadata": {
        "colab": {
          "base_uri": "https://localhost:8080/"
        },
        "id": "tz0CSueh2o5P",
        "outputId": "9193091e-879d-4c5b-d714-18827361482b"
      },
      "execution_count": null,
      "outputs": [
        {
          "output_type": "stream",
          "name": "stdout",
          "text": [
            "0\n",
            "1\n",
            "2\n",
            "3\n",
            "4\n",
            "5\n",
            "6\n",
            "7\n",
            "8\n",
            "9\n",
            "10\n"
          ]
        }
      ]
    },
    {
      "cell_type": "code",
      "source": [
        "loop = 0\n",
        "\n",
        "while loop <= 10:\n",
        "  print(loop)\n",
        "\n",
        "  if loop ==5:\n",
        "    for x in range(10):\n",
        "      print(x)\n",
        "  loop += 1"
      ],
      "metadata": {
        "id": "nCH_J4iL22Xs"
      },
      "execution_count": null,
      "outputs": []
    },
    {
      "cell_type": "code",
      "source": [
        "import random\n",
        "while True:\n",
        "  eu = random.randint(0,10)\n",
        "  voce = random.randint(0,10)\n",
        "\n",
        "  print('Eu tirei o valor', eu)\n",
        "  print('Você tirou o valor', voce)\n",
        "\n",
        "  if eu> voce:\n",
        "    print ('Ganhei')\n",
        "    break\n",
        "\n",
        "  print('\\n')"
      ],
      "metadata": {
        "colab": {
          "base_uri": "https://localhost:8080/"
        },
        "id": "00bDkP_w3qqT",
        "outputId": "ad286c3f-3b15-49a3-f4ae-badcf0f1769d"
      },
      "execution_count": null,
      "outputs": [
        {
          "output_type": "stream",
          "name": "stdout",
          "text": [
            "Eu tirei o valor 0\n",
            "Você tirou o valor 8\n",
            "\n",
            "\n",
            "Eu tirei o valor 1\n",
            "Você tirou o valor 4\n",
            "\n",
            "\n",
            "Eu tirei o valor 6\n",
            "Você tirou o valor 0\n",
            "Ganhei\n"
          ]
        }
      ]
    },
    {
      "cell_type": "code",
      "source": [
        "def boas_vindas():\n",
        "  print('*************PYTHON****************')"
      ],
      "metadata": {
        "id": "8PNUFTYN5iWb"
      },
      "execution_count": null,
      "outputs": []
    },
    {
      "cell_type": "code",
      "source": [
        "boas_vindas()"
      ],
      "metadata": {
        "colab": {
          "base_uri": "https://localhost:8080/"
        },
        "id": "jmHMTHo27S-8",
        "outputId": "a56ebab4-abd2-4f08-e6af-dc0f8e49f854"
      },
      "execution_count": null,
      "outputs": [
        {
          "output_type": "stream",
          "name": "stdout",
          "text": [
            "*************PYTHON****************\n"
          ]
        }
      ]
    },
    {
      "cell_type": "code",
      "source": [
        "def somar(v1, v2):\n",
        "  soma = v1+v2\n",
        "  print(soma)"
      ],
      "metadata": {
        "id": "HnfVK5nt7ZhK"
      },
      "execution_count": null,
      "outputs": []
    },
    {
      "cell_type": "code",
      "source": [
        "somar(2,4)"
      ],
      "metadata": {
        "colab": {
          "base_uri": "https://localhost:8080/"
        },
        "id": "Piyfo1d1732v",
        "outputId": "55b2d797-0944-404b-bdbc-55e248591ca7"
      },
      "execution_count": null,
      "outputs": [
        {
          "output_type": "stream",
          "name": "stdout",
          "text": [
            "6\n"
          ]
        }
      ]
    },
    {
      "cell_type": "code",
      "source": [
        "for loop in range(0,10):\n",
        "  x= random.random()\n",
        "  y= random.random()\n",
        "\n",
        "  somar(x,y)"
      ],
      "metadata": {
        "colab": {
          "base_uri": "https://localhost:8080/"
        },
        "id": "Repa7ORk75lY",
        "outputId": "52236ec9-e6e0-4b02-c2eb-260b023a9e27"
      },
      "execution_count": null,
      "outputs": [
        {
          "output_type": "stream",
          "name": "stdout",
          "text": [
            "1.7905140505721762\n",
            "0.6099547797054451\n",
            "1.317371219317649\n",
            "1.1793392636794122\n",
            "0.7823259693021164\n",
            "1.3556775263024425\n",
            "0.3813634743408916\n",
            "1.853219912636763\n",
            "0.9400534305731283\n",
            "0.6953519287140636\n"
          ]
        }
      ]
    },
    {
      "cell_type": "code",
      "source": [
        "#lambda -> função anônima. Pode receber qualquer número de argumentos, mas pode ter apenas uma expressão"
      ],
      "metadata": {
        "id": "MHDXi2cW8pKP"
      },
      "execution_count": null,
      "outputs": []
    },
    {
      "cell_type": "code",
      "source": [
        "funcao_soma = lambda valor: valor+10"
      ],
      "metadata": {
        "id": "fdhXx02Y9WuP"
      },
      "execution_count": null,
      "outputs": []
    },
    {
      "cell_type": "code",
      "source": [
        "funcao_soma(15)"
      ],
      "metadata": {
        "colab": {
          "base_uri": "https://localhost:8080/"
        },
        "id": "57YN75LM9eFw",
        "outputId": "14355659-2860-44df-ac67-6b055721f767"
      },
      "execution_count": null,
      "outputs": [
        {
          "output_type": "execute_result",
          "data": {
            "text/plain": [
              "25"
            ]
          },
          "metadata": {},
          "execution_count": 24
        }
      ]
    },
    {
      "cell_type": "code",
      "source": [
        "soma2 = lambda valor1, valor2 : valor1 + valor2"
      ],
      "metadata": {
        "id": "YjW14qdd9jO4"
      },
      "execution_count": null,
      "outputs": []
    },
    {
      "cell_type": "code",
      "source": [
        "soma2(12,43)"
      ],
      "metadata": {
        "colab": {
          "base_uri": "https://localhost:8080/"
        },
        "id": "A2UXwMEm9zVP",
        "outputId": "64d0a606-9160-4e7c-c6dc-3f5e47e8670b"
      },
      "execution_count": null,
      "outputs": [
        {
          "output_type": "execute_result",
          "data": {
            "text/plain": [
              "55"
            ]
          },
          "metadata": {},
          "execution_count": 26
        }
      ]
    },
    {
      "cell_type": "code",
      "source": [
        "def somar(valor1, valor2):\n",
        "  soma= valor1 + valor2\n",
        "  print(soma)\n",
        "somar(12, 43 )"
      ],
      "metadata": {
        "colab": {
          "base_uri": "https://localhost:8080/"
        },
        "id": "lR-hdy9V91Ow",
        "outputId": "5b35d4dd-760d-4401-f724-4af55168c55b"
      },
      "execution_count": null,
      "outputs": [
        {
          "output_type": "stream",
          "name": "stdout",
          "text": [
            "55\n"
          ]
        }
      ]
    },
    {
      "cell_type": "code",
      "source": [
        "#Try\n",
        "'''\n",
        "O try permite testar um bloco de código quanto a erros.\n",
        "O except permite que vocÊ lide com o erro.\n",
        "O else permite executar código quando não há erro.\n",
        "O finally permite que você execute código, independentemente do resultado dos blocos try e except\n",
        "'''"
      ],
      "metadata": {
        "colab": {
          "base_uri": "https://localhost:8080/",
          "height": 53
        },
        "id": "af1FCda3-HDS",
        "outputId": "c385fa44-30be-4a05-f39e-a5dc29f64456"
      },
      "execution_count": null,
      "outputs": [
        {
          "output_type": "execute_result",
          "data": {
            "text/plain": [
              "'\\nO try permite testar um bloco de código quanto a erros.\\nO except permite que vocÊ lide com o erro.\\nO else permite executar código quando não há erro.\\nO finally permite que você execute código, independentemente do resultado dos blocos try e except\\n'"
            ],
            "application/vnd.google.colaboratory.intrinsic+json": {
              "type": "string"
            }
          },
          "metadata": {},
          "execution_count": 29
        }
      ]
    },
    {
      "cell_type": "code",
      "source": [
        "try: \n",
        " 0/0 \n",
        " print('Deu certo')\n",
        "except: \n",
        "  print('não rolou')\n",
        "finally:\n",
        "  print('Ignora tudo')"
      ],
      "metadata": {
        "colab": {
          "base_uri": "https://localhost:8080/"
        },
        "id": "_C7FkwDm_HUR",
        "outputId": "ba919633-a808-469d-f7ac-0602710c604b"
      },
      "execution_count": null,
      "outputs": [
        {
          "output_type": "stream",
          "name": "stdout",
          "text": [
            "não rolou\n",
            "Ignora tudo\n"
          ]
        }
      ]
    },
    {
      "cell_type": "code",
      "source": [
        "class Pessoa:\n",
        "\n",
        "  #Método construtor\n",
        "  def __init__(self, Nome, Idade):\n",
        "      self.Nome = Nome\n",
        "      self.Idade = Idade\n",
        "\n",
        "  def boas_vindas(self):\n",
        "    print('Olá, seja bem vindo: ', self.Nome)\n",
        "\n",
        "  def recusado(self):\n",
        "    print('Seu acesso foi recusado')\n",
        "\n",
        "  #Função\n",
        "  def Maior_Idade(self):\n",
        "\n",
        "    if self.Idade >= 18:\n",
        "      print('Maior de Idade')\n",
        "      self.boas_vindas()\n",
        "    else:\n",
        "      print('Menor de idade')\n",
        "      self.recusado()\n",
        "\n",
        "    "
      ],
      "metadata": {
        "id": "CSwm4eQj_aja"
      },
      "execution_count": null,
      "outputs": []
    },
    {
      "cell_type": "code",
      "source": [
        "dados = Pessoa('Hygor', 30)"
      ],
      "metadata": {
        "id": "adVJeJKWB-Z8"
      },
      "execution_count": null,
      "outputs": []
    },
    {
      "cell_type": "code",
      "source": [
        "dados.Maior_Idade()"
      ],
      "metadata": {
        "colab": {
          "base_uri": "https://localhost:8080/"
        },
        "id": "GlNkM78YDB4m",
        "outputId": "fd7cd520-510e-4f27-9247-33f2d5279271"
      },
      "execution_count": null,
      "outputs": [
        {
          "output_type": "stream",
          "name": "stdout",
          "text": [
            "Maior de Idade\n",
            "Olá, seja bem vindo:  Hygor\n"
          ]
        }
      ]
    },
    {
      "cell_type": "code",
      "source": [
        "pip install pandas"
      ],
      "metadata": {
        "colab": {
          "base_uri": "https://localhost:8080/"
        },
        "id": "4wSgVHChFBOc",
        "outputId": "a8f44315-7c70-4a14-b309-76cb2f8d188d"
      },
      "execution_count": null,
      "outputs": [
        {
          "output_type": "stream",
          "name": "stdout",
          "text": [
            "Requirement already satisfied: pandas in /usr/local/lib/python3.7/dist-packages (1.3.5)\n",
            "Requirement already satisfied: numpy>=1.17.3 in /usr/local/lib/python3.7/dist-packages (from pandas) (1.21.6)\n",
            "Requirement already satisfied: python-dateutil>=2.7.3 in /usr/local/lib/python3.7/dist-packages (from pandas) (2.8.2)\n",
            "Requirement already satisfied: pytz>=2017.3 in /usr/local/lib/python3.7/dist-packages (from pandas) (2022.1)\n",
            "Requirement already satisfied: six>=1.5 in /usr/local/lib/python3.7/dist-packages (from python-dateutil>=2.7.3->pandas) (1.15.0)\n"
          ]
        }
      ]
    },
    {
      "cell_type": "code",
      "source": [
        ""
      ],
      "metadata": {
        "id": "J2i9FFx2SHi_"
      },
      "execution_count": null,
      "outputs": []
    }
  ]
}